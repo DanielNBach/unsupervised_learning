{
 "cells": [
  {
   "cell_type": "code",
   "execution_count": 269,
   "id": "638c5f8d",
   "metadata": {},
   "outputs": [],
   "source": [
    "import numpy as np\n",
    "import pandas as pd\n",
    "import seaborn as sns\n",
    "import matplotlib as mpl\n",
    "import matplotlib.pyplot as plt\n",
    "from sklearn import datasets\n",
    "from scipy.cluster.hierarchy import dendrogram, linkage\n",
    "from matplotlib.patches import Ellipse\n",
    "\n",
    "# Algorithms\n",
    "from sklearn.mixture import GaussianMixture\n",
    "from sklearn.cluster import DBSCAN\n",
    "from sklearn.decomposition import PCA\n",
    "from sklearn.decomposition import FastICA\n",
    "from sklearn.random_projection import GaussianRandomProjection\n",
    "from sklearn.manifold import MDS\n",
    "\n",
    "# Tools\n",
    "from sklearn.random_projection import johnson_lindenstrauss_min_dim\n",
    "from sklearn.model_selection import train_test_split\n",
    "np.random.seed(888)"
   ]
  },
  {
   "cell_type": "code",
   "execution_count": 132,
   "id": "8e36aa18",
   "metadata": {},
   "outputs": [],
   "source": [
    "'''\n",
    "The two datasets that will be used to train the models in this project. Also used in project 1.\n",
    "'''\n",
    "breast_cancer = datasets.load_breast_cancer()\n",
    "iris = datasets.load_iris()\n",
    "breast_cancer_X, breast_cancer_Y = breast_cancer.data, breast_cancer.target\n",
    "iris_X, iris_Y = iris.data, iris.target"
   ]
  },
  {
   "cell_type": "code",
   "execution_count": 282,
   "id": "8a505b2f",
   "metadata": {},
   "outputs": [],
   "source": [
    "# Clustering Algorithms\n",
    "def gaussian_clustering(X, y, data, title):\n",
    "    n_components = len(np.unique(y))\n",
    "    \n",
    "    gmm = GaussianMixture(n_components=n_components)\n",
    "    gmm.fit(X)\n",
    "    \n",
    "    labels = gmm.predict(X)\n",
    "    means = gmm.means_\n",
    "    covariances = gmm.covariances_\n",
    "    \n",
    "    # Define colors for the true labels\n",
    "    colors = [\"navy\", \"tomato\", \"darkseagreen\"]\n",
    "    \n",
    "    # Plot the data points with different colors for each cluster\n",
    "    for i in range(n_components):\n",
    "        cluster_data = X[labels == i]\n",
    "        plt.scatter(cluster_data[:, 0], cluster_data[:, 1], c=colors[i], label=f'Cluster {i + 1}')\n",
    "    \n",
    "    # Plot ellipses to represent cluster covariances\n",
    "    for i in range(n_components):\n",
    "        covariance_matrix = covariances[i][:2, :2]\n",
    "        eigenvalues, eigenvectors = np.linalg.eigh(covariance_matrix)\n",
    "        angle = np.degrees(np.arctan2(eigenvectors[1, 0], eigenvectors[0, 0]))\n",
    "        width, height = 2 * np.sqrt(5.991 * eigenvalues)  # 5.991 corresponds to 95% confidence interval\n",
    "\n",
    "        ellipse = Ellipse(xy=means[i], width=width, height=height, angle=angle, color=colors[i], alpha=0.2)\n",
    "        plt.gca().add_patch(ellipse)\n",
    "    \n",
    "    # Plot cluster centers\n",
    "    plt.scatter(means[:, 0], means[:, 1], c='k', marker='x', s=100)\n",
    "    \n",
    "    plt.xlabel(data.feature_names[0])\n",
    "    plt.ylabel(data.feature_names[1])\n",
    "    plt.title(f'Gaussian Mixture Model Clusters for {title}')\n",
    "    plt.savefig(fname=f'Gaussian_Mixture_Model_{title}')\n",
    "    plt.clf()\n",
    "    return\n",
    "\n",
    "def agglomerative_clustering(X, y, data, title):\n",
    "    n_clusters = len(np.unique(y))\n",
    "    \n",
    "    # Define colors for the true labels\n",
    "    colors = [\"navy\", \"tomato\", \"darkseagreen\"]\n",
    "    # Perform Agglomerative Clustering\n",
    "    linkage_matrix = linkage(X, method='ward')  # You can use different linkage methods\n",
    "\n",
    "    # Plot the dendrogram\n",
    "    plt.figure(figsize=(8, 6))\n",
    "    dendrogram(linkage_matrix, p=5, truncate_mode='level')\n",
    "    plt.title(f'Agglomerative Clustering Dendrogram for {title}')\n",
    "    plt.savefig(fname=f'Agglomerative_Clustering_{title}')\n",
    "    plt.clf()\n",
    "    return"
   ]
  },
  {
   "cell_type": "code",
   "execution_count": 283,
   "id": "625ca7a5",
   "metadata": {},
   "outputs": [
    {
     "data": {
      "text/plain": [
       "<Figure size 800x600 with 0 Axes>"
      ]
     },
     "metadata": {},
     "output_type": "display_data"
    },
    {
     "data": {
      "text/plain": [
       "<Figure size 800x600 with 0 Axes>"
      ]
     },
     "metadata": {},
     "output_type": "display_data"
    }
   ],
   "source": [
    "if __name__ == \"__main__\":\n",
    "    #gaussian_clustering(breast_cancer_X, breast_cancer_Y, breast_cancer, \"Breast_Cancer_Dataset\")\n",
    "    #gaussian_clustering(iris_X, iris_Y, iris, \"Iris_Dataset\")\n",
    "    agglomerative_clustering(breast_cancer_X, breast_cancer_Y, breast_cancer, \"Breast_Cancer_Dataset\")\n",
    "    agglomerative_clustering(iris_X, iris_Y, iris, \"Iris_Dataset\")"
   ]
  }
 ],
 "metadata": {
  "kernelspec": {
   "display_name": "Python 3 (ipykernel)",
   "language": "python",
   "name": "python3"
  },
  "language_info": {
   "codemirror_mode": {
    "name": "ipython",
    "version": 3
   },
   "file_extension": ".py",
   "mimetype": "text/x-python",
   "name": "python",
   "nbconvert_exporter": "python",
   "pygments_lexer": "ipython3",
   "version": "3.11.4"
  }
 },
 "nbformat": 4,
 "nbformat_minor": 5
}
